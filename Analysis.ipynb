{
 "cells": [
  {
   "cell_type": "code",
   "execution_count": 1,
   "metadata": {},
   "outputs": [],
   "source": [
    "#this is an analysis scratch space. this is not meant for production level modeling."
   ]
  },
  {
   "cell_type": "code",
   "execution_count": 19,
   "metadata": {},
   "outputs": [],
   "source": [
    "import pandas as pd\n",
    "import tensorflow as tf\n",
    "import numpy as np\n",
    "from sklearn.model_selection import KFold\n",
    "from sklearn.metrics import roc_curve, auc, roc_auc_score\n",
    "import matplotlib.pyplot as plt\n",
    "from sklearn.cluster import KMeans\n",
    "from sklearn.preprocessing import LabelEncoder\n",
    "from sklearn.preprocessing import MinMaxScaler\n",
    "import seaborn as sns"
   ]
  },
  {
   "cell_type": "code",
   "execution_count": 2,
   "metadata": {},
   "outputs": [],
   "source": [
    "def sigmoid(x):\n",
    "    return 1 / (1 + np.exp(-x))\n",
    "def hinge_loss(y_true, y_pred):    \n",
    "    return tf.maximum(0., 1- y_true*y_pred)\n",
    "def roc_auc_score_multiclass(actual_class, pred_class, average = \"macro\"):\n",
    "  unique_class = set(actual_class)\n",
    "  roc_auc_dict = {}\n",
    "  for per_class in unique_class:\n",
    "    other_class = [x for x in unique_class if x != per_class]\n",
    "    new_actual_class = [0 if x in other_class else 1 for x in actual_class]\n",
    "    new_pred_class = [0 if x in other_class else 1 for x in pred_class]\n",
    "    roc_auc = roc_auc_score(new_actual_class, new_pred_class, average = average)\n",
    "    roc_auc_dict[per_class] = roc_auc\n",
    "  return roc_auc_dict"
   ]
  },
  {
   "cell_type": "code",
   "execution_count": 3,
   "metadata": {},
   "outputs": [
    {
     "name": "stderr",
     "output_type": "stream",
     "text": [
      "/Users/michaelwolfe/opt/anaconda3/envs/capstone/lib/python3.7/site-packages/IPython/core/interactiveshell.py:3063: DtypeWarning: Columns (1,2,3,4,5,6,7,8,9,10,11,12,13,14,15,16,17,18,19,20,21,22,23,24,25,26,27,28,29,30,31,32,33,34,35) have mixed types.Specify dtype option on import or set low_memory=False.\n",
      "  interactivity=interactivity, compiler=compiler, result=result)\n"
     ]
    }
   ],
   "source": [
    "raw_data = pd.read_csv('https://raw.githubusercontent.com/mjwolfe91/MSDS_Capstone_JC_AN_MW/master/Data/HAR_FALL-UP_CompleteDataSet.csv')"
   ]
  },
  {
   "cell_type": "code",
   "execution_count": 4,
   "metadata": {},
   "outputs": [
    {
     "name": "stderr",
     "output_type": "stream",
     "text": [
      "/Users/michaelwolfe/opt/anaconda3/envs/capstone/lib/python3.7/site-packages/pandas/core/frame.py:4133: SettingWithCopyWarning: \n",
      "A value is trying to be set on a copy of a slice from a DataFrame\n",
      "\n",
      "See the caveats in the documentation: https://pandas.pydata.org/pandas-docs/stable/user_guide/indexing.html#returning-a-view-versus-a-copy\n",
      "  errors=errors,\n",
      "/Users/michaelwolfe/opt/anaconda3/envs/capstone/lib/python3.7/site-packages/pandas/core/generic.py:5303: SettingWithCopyWarning: \n",
      "A value is trying to be set on a copy of a slice from a DataFrame.\n",
      "Try using .loc[row_indexer,col_indexer] = value instead\n",
      "\n",
      "See the caveats in the documentation: https://pandas.pydata.org/pandas-docs/stable/user_guide/indexing.html#returning-a-view-versus-a-copy\n",
      "  self[name] = value\n",
      "/Users/michaelwolfe/opt/anaconda3/envs/capstone/lib/python3.7/site-packages/ipykernel_launcher.py:7: SettingWithCopyWarning: \n",
      "A value is trying to be set on a copy of a slice from a DataFrame.\n",
      "Try using .loc[row_indexer,col_indexer] = value instead\n",
      "\n",
      "See the caveats in the documentation: https://pandas.pydata.org/pandas-docs/stable/user_guide/indexing.html#returning-a-view-versus-a-copy\n",
      "  import sys\n"
     ]
    }
   ],
   "source": [
    "raw_WristSensor = raw_data[['TimeStamps','WristAccelerometer', 'Unnamed: 30', 'Unnamed: 31', 'WristAngularVelocity', 'Unnamed: 33', 'Unnamed: 34','Subject', 'Activity', 'Trial']]\n",
    "# Rename Columns\n",
    "raw_WristSensor.rename(columns = {'TimeStamps':'TimeStamp', 'WristAccelerometer': 'Accelerometer (x)', 'Unnamed: 30':'Accelerometer (y)','Unnamed: 31':'Accelerometer (z)', 'WristAngularVelocity': 'Angular Velocity (x)', 'Unnamed: 33':'Angular Velocity (y)','Unnamed: 34':'Angular Velocity (z)'}, inplace = True)\n",
    "# Change data types \n",
    "raw_WristSensor.TimeStamp = pd.to_datetime(raw_WristSensor.TimeStamp)\n",
    "for col in ['Accelerometer (x)','Accelerometer (y)','Accelerometer (z)','Angular Velocity (x)','Angular Velocity (y)','Angular Velocity (z)']:\n",
    "    raw_WristSensor[col] = pd.to_numeric(raw_WristSensor[1:][col])"
   ]
  },
  {
   "cell_type": "code",
   "execution_count": 5,
   "metadata": {},
   "outputs": [
    {
     "name": "stderr",
     "output_type": "stream",
     "text": [
      "/Users/michaelwolfe/opt/anaconda3/envs/capstone/lib/python3.7/site-packages/ipykernel_launcher.py:2: SettingWithCopyWarning: \n",
      "A value is trying to be set on a copy of a slice from a DataFrame.\n",
      "Try using .loc[row_indexer,col_indexer] = value instead\n",
      "\n",
      "See the caveats in the documentation: https://pandas.pydata.org/pandas-docs/stable/user_guide/indexing.html#returning-a-view-versus-a-copy\n",
      "  \n"
     ]
    }
   ],
   "source": [
    "raw_WristSensor_svm = raw_WristSensor\n",
    "raw_WristSensor_svm['Activity'] = np.where(raw_WristSensor['Activity']!=1, 0, raw_WristSensor['Activity'])\n",
    "X=raw_WristSensor_svm.iloc[1:,1:6]\n",
    "y=raw_WristSensor_svm.iloc[1:,8]\n",
    "y_=y[y == 1]"
   ]
  },
  {
   "cell_type": "code",
   "execution_count": 6,
   "metadata": {},
   "outputs": [],
   "source": [
    "predict = lambda model, x : sigmoid(model.predict(x).reshape(-1))\n",
    "predict_class = lambda model, x : np.where(predict(model, x)>0.5, 1, 0)"
   ]
  },
  {
   "cell_type": "code",
   "execution_count": 7,
   "metadata": {},
   "outputs": [
    {
     "name": "stdout",
     "output_type": "stream",
     "text": [
      "Epoch 1/10\n",
      "WARNING:tensorflow:Layer dense is casting an input tensor from dtype float64 to the layer's dtype of float32, which is new behavior in TensorFlow 2.  The layer has dtype float32 because it's dtype defaults to floatx.\n",
      "\n",
      "If you intended to run this layer in float32, you can safely ignore this warning. If in doubt, this warning is likely only an issue if you are porting a TensorFlow 1.X model to TensorFlow 2.\n",
      "\n",
      "To change all layers to have dtype float64 by default, call `tf.keras.backend.set_floatx('float64')`. To change just this layer, pass dtype='float64' to the layer constructor. If you are the author of this layer, you can disable autocasting by passing autocast=False to the base Layer constructor.\n",
      "\n",
      "9209/9209 [==============================] - 4s 442us/step - loss: 0.9734\n",
      "Epoch 2/10\n",
      "9209/9209 [==============================] - 4s 436us/step - loss: 0.9688\n",
      "Epoch 3/10\n",
      "9209/9209 [==============================] - 4s 450us/step - loss: 0.9688\n",
      "Epoch 4/10\n",
      "9209/9209 [==============================] - 4s 446us/step - loss: 0.9688\n",
      "Epoch 5/10\n",
      "9209/9209 [==============================] - 4s 446us/step - loss: 0.9688\n",
      "Epoch 6/10\n",
      "9209/9209 [==============================] - 4s 438us/step - loss: 0.9688\n",
      "Epoch 7/10\n",
      "9209/9209 [==============================] - 4s 440us/step - loss: 0.9688\n",
      "Epoch 8/10\n",
      "9209/9209 [==============================] - 4s 441us/step - loss: 0.9688\n",
      "Epoch 9/10\n",
      "9209/9209 [==============================] - 4s 436us/step - loss: 0.9688\n",
      "Epoch 10/10\n",
      "9209/9209 [==============================] - 4s 445us/step - loss: 0.9688\n",
      "WARNING:tensorflow:From <ipython-input-7-386882302be6>:11: Sequential.predict_classes (from tensorflow.python.keras.engine.sequential) is deprecated and will be removed after 2021-01-01.\n",
      "Instructions for updating:\n",
      "Please use instead:* `np.argmax(model.predict(x), axis=-1)`,   if your model does multi-class classification   (e.g. if it uses a `softmax` last-layer activation).* `(model.predict(x) > 0.5).astype(\"int32\")`,   if your model does binary classification   (e.g. if it uses a `sigmoid` last-layer activation).\n",
      "CV Fold 1: AUC: <function auc at 0x1a42352170>\n",
      "Epoch 1/10\n",
      "WARNING:tensorflow:Layer dense_1 is casting an input tensor from dtype float64 to the layer's dtype of float32, which is new behavior in TensorFlow 2.  The layer has dtype float32 because it's dtype defaults to floatx.\n",
      "\n",
      "If you intended to run this layer in float32, you can safely ignore this warning. If in doubt, this warning is likely only an issue if you are porting a TensorFlow 1.X model to TensorFlow 2.\n",
      "\n",
      "To change all layers to have dtype float64 by default, call `tf.keras.backend.set_floatx('float64')`. To change just this layer, pass dtype='float64' to the layer constructor. If you are the author of this layer, you can disable autocasting by passing autocast=False to the base Layer constructor.\n",
      "\n",
      "9209/9209 [==============================] - 4s 447us/step - loss: 0.9745\n",
      "Epoch 2/10\n",
      "9209/9209 [==============================] - 4s 442us/step - loss: 0.9688\n",
      "Epoch 3/10\n",
      "9209/9209 [==============================] - 4s 479us/step - loss: 0.9688\n",
      "Epoch 4/10\n",
      "9209/9209 [==============================] - 4s 469us/step - loss: 0.9688\n",
      "Epoch 5/10\n",
      "9209/9209 [==============================] - 5s 518us/step - loss: 0.9688\n",
      "Epoch 6/10\n",
      "9209/9209 [==============================] - 5s 564us/step - loss: 0.9688\n",
      "Epoch 7/10\n",
      "9209/9209 [==============================] - 4s 449us/step - loss: 0.9688\n",
      "Epoch 8/10\n",
      "9209/9209 [==============================] - 4s 444us/step - loss: 0.9688\n",
      "Epoch 9/10\n",
      "9209/9209 [==============================] - 4s 439us/step - loss: 0.9688\n",
      "Epoch 10/10\n",
      "9209/9209 [==============================] - 4s 438us/step - loss: 0.9688\n",
      "CV Fold 2: AUC: <function auc at 0x1a42352170>\n",
      "Epoch 1/10\n",
      "WARNING:tensorflow:Layer dense_2 is casting an input tensor from dtype float64 to the layer's dtype of float32, which is new behavior in TensorFlow 2.  The layer has dtype float32 because it's dtype defaults to floatx.\n",
      "\n",
      "If you intended to run this layer in float32, you can safely ignore this warning. If in doubt, this warning is likely only an issue if you are porting a TensorFlow 1.X model to TensorFlow 2.\n",
      "\n",
      "To change all layers to have dtype float64 by default, call `tf.keras.backend.set_floatx('float64')`. To change just this layer, pass dtype='float64' to the layer constructor. If you are the author of this layer, you can disable autocasting by passing autocast=False to the base Layer constructor.\n",
      "\n",
      "9209/9209 [==============================] - 4s 440us/step - loss: 0.9734\n",
      "Epoch 2/10\n",
      "9209/9209 [==============================] - 4s 445us/step - loss: 0.9688\n",
      "Epoch 3/10\n",
      "9209/9209 [==============================] - 4s 438us/step - loss: 0.9688\n",
      "Epoch 4/10\n",
      "9209/9209 [==============================] - 4s 450us/step - loss: 0.9688\n",
      "Epoch 5/10\n",
      "9209/9209 [==============================] - 4s 438us/step - loss: 0.9688\n",
      "Epoch 6/10\n",
      "9209/9209 [==============================] - 4s 440us/step - loss: 0.9688\n",
      "Epoch 7/10\n",
      "9209/9209 [==============================] - 4s 443us/step - loss: 0.9688\n",
      "Epoch 8/10\n",
      "9209/9209 [==============================] - 4s 438us/step - loss: 0.9688\n",
      "Epoch 9/10\n",
      "9209/9209 [==============================] - 4s 450us/step - loss: 0.9688\n",
      "Epoch 10/10\n",
      "9209/9209 [==============================] - 4s 438us/step - loss: 0.9688\n",
      "CV Fold 3: AUC: <function auc at 0x1a42352170>\n",
      "Epoch 1/10\n",
      "WARNING:tensorflow:Layer dense_3 is casting an input tensor from dtype float64 to the layer's dtype of float32, which is new behavior in TensorFlow 2.  The layer has dtype float32 because it's dtype defaults to floatx.\n",
      "\n",
      "If you intended to run this layer in float32, you can safely ignore this warning. If in doubt, this warning is likely only an issue if you are porting a TensorFlow 1.X model to TensorFlow 2.\n",
      "\n",
      "To change all layers to have dtype float64 by default, call `tf.keras.backend.set_floatx('float64')`. To change just this layer, pass dtype='float64' to the layer constructor. If you are the author of this layer, you can disable autocasting by passing autocast=False to the base Layer constructor.\n",
      "\n",
      "9209/9209 [==============================] - 4s 439us/step - loss: 0.9729\n",
      "Epoch 2/10\n",
      "9209/9209 [==============================] - 4s 446us/step - loss: 0.9688\n",
      "Epoch 3/10\n",
      "9209/9209 [==============================] - 4s 446us/step - loss: 0.9688\n",
      "Epoch 4/10\n",
      "9209/9209 [==============================] - 4s 438us/step - loss: 0.9688\n",
      "Epoch 5/10\n",
      "9209/9209 [==============================] - 4s 445us/step - loss: 0.9688\n",
      "Epoch 6/10\n",
      "9209/9209 [==============================] - 4s 440us/step - loss: 0.9688\n",
      "Epoch 7/10\n",
      "9209/9209 [==============================] - 4s 446us/step - loss: 0.9688\n",
      "Epoch 8/10\n",
      "9209/9209 [==============================] - 4s 446us/step - loss: 0.9688\n",
      "Epoch 9/10\n",
      "9209/9209 [==============================] - 4s 447us/step - loss: 0.9688\n",
      "Epoch 10/10\n",
      "9209/9209 [==============================] - 4s 439us/step - loss: 0.9688\n",
      "CV Fold 4: AUC: <function auc at 0x1a42352170>\n",
      "Epoch 1/10\n",
      "WARNING:tensorflow:Layer dense_4 is casting an input tensor from dtype float64 to the layer's dtype of float32, which is new behavior in TensorFlow 2.  The layer has dtype float32 because it's dtype defaults to floatx.\n",
      "\n",
      "If you intended to run this layer in float32, you can safely ignore this warning. If in doubt, this warning is likely only an issue if you are porting a TensorFlow 1.X model to TensorFlow 2.\n",
      "\n",
      "To change all layers to have dtype float64 by default, call `tf.keras.backend.set_floatx('float64')`. To change just this layer, pass dtype='float64' to the layer constructor. If you are the author of this layer, you can disable autocasting by passing autocast=False to the base Layer constructor.\n",
      "\n",
      "9209/9209 [==============================] - 4s 456us/step - loss: 0.9733\n",
      "Epoch 2/10\n",
      "9209/9209 [==============================] - 4s 441us/step - loss: 0.9688\n",
      "Epoch 3/10\n",
      "9209/9209 [==============================] - 4s 442us/step - loss: 0.9688\n",
      "Epoch 4/10\n",
      "9209/9209 [==============================] - 4s 449us/step - loss: 0.9688\n",
      "Epoch 5/10\n",
      "9209/9209 [==============================] - 4s 441us/step - loss: 0.9688\n",
      "Epoch 6/10\n",
      "9209/9209 [==============================] - 4s 443us/step - loss: 0.9688\n",
      "Epoch 7/10\n"
     ]
    },
    {
     "name": "stdout",
     "output_type": "stream",
     "text": [
      "9209/9209 [==============================] - 4s 440us/step - loss: 0.9688\n",
      "Epoch 8/10\n",
      "9209/9209 [==============================] - 4s 435us/step - loss: 0.9688\n",
      "Epoch 9/10\n",
      "9209/9209 [==============================] - 4s 438us/step - loss: 0.9688\n",
      "Epoch 10/10\n",
      "9209/9209 [==============================] - 4s 440us/step - loss: 0.9688\n",
      "CV Fold 5: AUC: <function auc at 0x1a42352170>\n",
      "0.5\n"
     ]
    }
   ],
   "source": [
    "kf = KFold(n_splits=5, shuffle=True)\n",
    "best = (None, -1)\n",
    "for i, (train_index, test_index) in enumerate(kf.split(X, y)):\n",
    "    X_train, X_test = X.iloc[train_index], X.iloc[test_index]\n",
    "    y_train, y_test = y.iloc[train_index], y.iloc[test_index]\n",
    "\n",
    "    svm_model = tf.keras.Sequential()\n",
    "    svm_model.add(tf.keras.layers.Dense(1, activation='sigmoid', kernel_regularizer=tf.keras.regularizers.l2()))\n",
    "    svm_model.compile(optimizer='adam', loss=hinge_loss)\n",
    "    svm_model.fit(X, y,  epochs=10, verbose=True)\n",
    "    y_pred = svm_model.predict_classes(X_test)\n",
    "    val = roc_auc_score(y_test, y_pred)    \n",
    "    print (\"CV Fold {0}: AUC: {1}\".format(i+1, auc))\n",
    "    if best[1] < val:\n",
    "        best = (svm_model, val)\n",
    "\n",
    "y_score = predict(best[0], X)\n",
    "fpr, tpr, _ = roc_curve(y, y_score.reshape(-1,1))\n",
    "roc_auc = auc(fpr, tpr)\n",
    "print(roc_auc)"
   ]
  },
  {
   "cell_type": "code",
   "execution_count": 8,
   "metadata": {},
   "outputs": [
    {
     "data": {
      "image/png": "[encoded data removed]",
      "text/plain": [
       "<Figure size 432x288 with 1 Axes>"
      ]
     },
     "metadata": {
      "needs_background": "light"
     },
     "output_type": "display_data"
    },
    {
     "data": {
      "text/plain": [
       "array([1, 1, 1, ..., 1, 1, 1])"
      ]
     },
     "execution_count": 8,
     "metadata": {},
     "output_type": "execute_result"
    }
   ],
   "source": [
    "plt.figure()\n",
    "lw = 2\n",
    "plt.plot(fpr, tpr, color='darkorange',\n",
    "         lw=lw, label='ROC curve (area = %0.2f)' % roc_auc)\n",
    "plt.plot([0, 1], [0, 1], color='navy', lw=lw, linestyle='--')\n",
    "plt.xlim([0.0, 1.0])\n",
    "plt.ylim([0.0, 1.05])\n",
    "plt.xlabel('False Positive Rate')\n",
    "plt.ylabel('True Positive Rate')\n",
    "plt.legend(loc=\"lower right\")\n",
    "plt.show()\n",
    "\n",
    "y_score = predict_class(best[0], X)\n",
    "y_score"
   ]
  },
  {
   "cell_type": "code",
   "execution_count": 14,
   "metadata": {},
   "outputs": [],
   "source": [
    "X=raw_WristSensor.iloc[1:,1:6]\n",
    "y=raw_WristSensor.iloc[1:,8]\n",
    "k=11"
   ]
  },
  {
   "cell_type": "code",
   "execution_count": 32,
   "metadata": {},
   "outputs": [
    {
     "data": {
      "image/png": "[encoded data removed]",
      "text/plain": [
       "<Figure size 432x288 with 1 Axes>"
      ]
     },
     "metadata": {
      "needs_background": "light"
     },
     "output_type": "display_data"
    }
   ],
   "source": [
    "wcss = []\n",
    "for i in range(1, 15):\n",
    "    kmeans = KMeans(n_clusters=i, init='k-means++', max_iter=300, n_init=10, random_state=0)\n",
    "    kmeans.fit(X)\n",
    "    wcss.append(kmeans.inertia_)\n",
    "plt.plot(range(1, 15), wcss)\n",
    "plt.title('Elbow Method')\n",
    "plt.xlabel('Number of clusters')\n",
    "plt.ylabel('WCSS')\n",
    "plt.show()"
   ]
  },
  {
   "cell_type": "code",
   "execution_count": 39,
   "metadata": {},
   "outputs": [
    {
     "data": {
      "image/png": "[encoded data removed]",
      "text/plain": [
       "<Figure size 432x288 with 1 Axes>"
      ]
     },
     "metadata": {
      "needs_background": "light"
     },
     "output_type": "display_data"
    }
   ],
   "source": [
    "kmeans = KMeans(n_clusters=15, init='k-means++', max_iter=300, n_init=10, random_state=0)\n",
    "pred_y = kmeans.fit_predict(X)\n",
    "plt.scatter(X.iloc[:,0], X.iloc[:,1])\n",
    "plt.scatter(kmeans.cluster_centers_[:, 0], kmeans.cluster_centers_[:, 1], s=300, c='red')\n",
    "plt.show()"
   ]
  },
  {
   "cell_type": "code",
   "execution_count": 40,
   "metadata": {},
   "outputs": [
    {
     "data": {
      "image/png": "[encoded data removed]",
      "text/plain": [
       "<Figure size 432x288 with 1 Axes>"
      ]
     },
     "metadata": {
      "needs_background": "light"
     },
     "output_type": "display_data"
    }
   ],
   "source": [
    "kmeans = KMeans(n_clusters=2, init='k-means++', max_iter=300, n_init=10, random_state=0)\n",
    "pred_y = kmeans.fit_predict(X)\n",
    "plt.scatter(X.iloc[:,0], X.iloc[:,1])\n",
    "plt.scatter(kmeans.cluster_centers_[:, 0], kmeans.cluster_centers_[:, 1], s=300, c='red')\n",
    "plt.show()"
   ]
  },
  {
   "cell_type": "code",
   "execution_count": null,
   "metadata": {},
   "outputs": [],
   "source": []
  }
 ],
 "metadata": {
  "kernelspec": {
   "display_name": "Python 3",
   "language": "python",
   "name": "python3"
  },
  "language_info": {
   "codemirror_mode": {
    "name": "ipython",
    "version": 3
   },
   "file_extension": ".py",
   "mimetype": "text/x-python",
   "name": "python",
   "nbconvert_exporter": "python",
   "pygments_lexer": "ipython3",
   "version": "3.7.7"
  }
 },
 "nbformat": 4,
 "nbformat_minor": 4
}
